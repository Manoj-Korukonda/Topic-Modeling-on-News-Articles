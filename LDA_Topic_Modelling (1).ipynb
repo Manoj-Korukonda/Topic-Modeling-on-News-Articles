{
  "nbformat": 4,
  "nbformat_minor": 0,
  "metadata": {
    "colab": {
      "name": "LDA Topic Modelling.ipynb",
      "provenance": [],
      "collapsed_sections": []
    },
    "kernelspec": {
      "name": "python3",
      "display_name": "Python 3"
    },
    "language_info": {
      "name": "python"
    }
  },
  "cells": [
    {
      "cell_type": "code",
      "execution_count": null,
      "metadata": {
        "id": "Rk7dHQwv2Fao"
      },
      "outputs": [],
      "source": [
        ""
      ]
    },
    {
      "cell_type": "markdown",
      "source": [
        "**Latent Dirichlet Allocation**\n",
        "\n",
        "This notebook is a part of my learning journey which I've been documenting from Udacity's Natural Language Processing Nanodegree program, which helped me a lot to learn and excel advanced data science stuff such as PySpark. Thank you so much Udacity for providing such quality content.\n",
        "\n",
        "LDA is used to classify text in a document to a particular topic. It builds a topic per document model and words per topic model, modeled as Dirichlet distributions."
      ],
      "metadata": {
        "id": "IpoqxRFH-KeE"
      }
    },
    {
      "cell_type": "markdown",
      "source": [
        "Each document is modeled as a multinomial distribution of topics and each topic is modeled as a multinomial distribution of words.\n",
        "\n",
        "LDA assumes that the every chunk of text we feed into it will contain words that are somehow related. Therefore choosing the right corpus of data is crucial.\n",
        "\n",
        "It also assumes documents are produced from a mixture of topics. Those topics then generate words based on their probability distribution."
      ],
      "metadata": {
        "id": "YhPic2bT-RQ2"
      }
    },
    {
      "cell_type": "markdown",
      "source": [
        "Load the dataset\n",
        "\n",
        "The dataset we'll use is a list of over one million news headlines published over a period of 15 years. We'll start by loading it from the abcnews-date-text.csv file."
      ],
      "metadata": {
        "id": "qjatUpMg-bxf"
      }
    },
    {
      "cell_type": "code",
      "source": [
        "import numpy as np\n",
        "import pandas as pd\n",
        "from IPython.display import display\n",
        "from tqdm import tqdm\n",
        "from collections import Counter\n",
        "import ast\n",
        "\n",
        "import matplotlib.pyplot as plt\n",
        "import matplotlib.mlab as mlab\n",
        "import seaborn as sb\n",
        "\n",
        "from sklearn.feature_extraction.text import CountVectorizer\n",
        "from textblob import TextBlob\n",
        "import scipy.stats as stats\n",
        "\n",
        "from sklearn.decomposition import TruncatedSVD\n",
        "from sklearn.decomposition import LatentDirichletAllocation\n",
        "from sklearn.manifold import TSNE\n",
        "\n",
        "from bokeh.plotting import figure, output_file, show\n",
        "from bokeh.models import Label\n",
        "from bokeh.io import output_notebook\n",
        "output_notebook()"
      ],
      "metadata": {
        "id": "FUMVqblZ-gGP"
      },
      "execution_count": null,
      "outputs": []
    },
    {
      "cell_type": "code",
      "source": [
        "from google.colab import drive\n",
        "drive.mount('/content/drive')"
      ],
      "metadata": {
        "colab": {
          "base_uri": "https://localhost:8080/"
        },
        "id": "t70h93M-_m6z",
        "outputId": "9a012a0a-7cda-4cd0-e5ac-39c3735c4cf0"
      },
      "execution_count": null,
      "outputs": [
        {
          "output_type": "stream",
          "name": "stdout",
          "text": [
            "Drive already mounted at /content/drive; to attempt to forcibly remount, call drive.mount(\"/content/drive\", force_remount=True).\n"
          ]
        }
      ]
    },
    {
      "cell_type": "code",
      "source": [
        "'''\n",
        "Load the dataset from the csv and save it to 'data_text'\n",
        "'''\n",
        "import pandas as pd\n",
        "data = pd.read_csv('/content/drive/MyDrive/LDA Topic modeling/abcnews-date-text.csv', error_bad_lines=False)\n",
        "# we only need to headlines from the data\n",
        "data_text = data[:300000][['headline_text']]\n",
        "data_text['index'] = data_text.index\n",
        "documents = data_text\n"
      ],
      "metadata": {
        "colab": {
          "base_uri": "https://localhost:8080/"
        },
        "id": "TjOnRhg9-1lI",
        "outputId": "baf608c2-bbf9-497b-8695-0120521e9bb7"
      },
      "execution_count": null,
      "outputs": [
        {
          "output_type": "stream",
          "name": "stderr",
          "text": [
            "/usr/local/lib/python3.7/dist-packages/IPython/core/interactiveshell.py:2882: FutureWarning: The error_bad_lines argument has been deprecated and will be removed in a future version.\n",
            "\n",
            "\n",
            "  exec(code_obj, self.user_global_ns, self.user_ns)\n"
          ]
        }
      ]
    },
    {
      "cell_type": "code",
      "source": [
        "data.head()"
      ],
      "metadata": {
        "colab": {
          "base_uri": "https://localhost:8080/",
          "height": 206
        },
        "id": "Pqa80Gan-1ny",
        "outputId": "48b18345-2b02-47d6-a2c8-38a8938e916b"
      },
      "execution_count": null,
      "outputs": [
        {
          "output_type": "execute_result",
          "data": {
            "text/plain": [
              "   publish_date                                      headline_text\n",
              "0      20030219  aba decides against community broadcasting lic...\n",
              "1      20030219     act fire witnesses must be aware of defamation\n",
              "2      20030219     a g calls for infrastructure protection summit\n",
              "3      20030219           air nz staff in aust strike for pay rise\n",
              "4      20030219      air nz strike to affect australian travellers"
            ],
            "text/html": [
              "\n",
              "  <div id=\"df-79eccbd6-d8f1-46f9-9fdf-8f9a7c83c188\">\n",
              "    <div class=\"colab-df-container\">\n",
              "      <div>\n",
              "<style scoped>\n",
              "    .dataframe tbody tr th:only-of-type {\n",
              "        vertical-align: middle;\n",
              "    }\n",
              "\n",
              "    .dataframe tbody tr th {\n",
              "        vertical-align: top;\n",
              "    }\n",
              "\n",
              "    .dataframe thead th {\n",
              "        text-align: right;\n",
              "    }\n",
              "</style>\n",
              "<table border=\"1\" class=\"dataframe\">\n",
              "  <thead>\n",
              "    <tr style=\"text-align: right;\">\n",
              "      <th></th>\n",
              "      <th>publish_date</th>\n",
              "      <th>headline_text</th>\n",
              "    </tr>\n",
              "  </thead>\n",
              "  <tbody>\n",
              "    <tr>\n",
              "      <th>0</th>\n",
              "      <td>20030219</td>\n",
              "      <td>aba decides against community broadcasting lic...</td>\n",
              "    </tr>\n",
              "    <tr>\n",
              "      <th>1</th>\n",
              "      <td>20030219</td>\n",
              "      <td>act fire witnesses must be aware of defamation</td>\n",
              "    </tr>\n",
              "    <tr>\n",
              "      <th>2</th>\n",
              "      <td>20030219</td>\n",
              "      <td>a g calls for infrastructure protection summit</td>\n",
              "    </tr>\n",
              "    <tr>\n",
              "      <th>3</th>\n",
              "      <td>20030219</td>\n",
              "      <td>air nz staff in aust strike for pay rise</td>\n",
              "    </tr>\n",
              "    <tr>\n",
              "      <th>4</th>\n",
              "      <td>20030219</td>\n",
              "      <td>air nz strike to affect australian travellers</td>\n",
              "    </tr>\n",
              "  </tbody>\n",
              "</table>\n",
              "</div>\n",
              "      <button class=\"colab-df-convert\" onclick=\"convertToInteractive('df-79eccbd6-d8f1-46f9-9fdf-8f9a7c83c188')\"\n",
              "              title=\"Convert this dataframe to an interactive table.\"\n",
              "              style=\"display:none;\">\n",
              "        \n",
              "  <svg xmlns=\"http://www.w3.org/2000/svg\" height=\"24px\"viewBox=\"0 0 24 24\"\n",
              "       width=\"24px\">\n",
              "    <path d=\"M0 0h24v24H0V0z\" fill=\"none\"/>\n",
              "    <path d=\"M18.56 5.44l.94 2.06.94-2.06 2.06-.94-2.06-.94-.94-2.06-.94 2.06-2.06.94zm-11 1L8.5 8.5l.94-2.06 2.06-.94-2.06-.94L8.5 2.5l-.94 2.06-2.06.94zm10 10l.94 2.06.94-2.06 2.06-.94-2.06-.94-.94-2.06-.94 2.06-2.06.94z\"/><path d=\"M17.41 7.96l-1.37-1.37c-.4-.4-.92-.59-1.43-.59-.52 0-1.04.2-1.43.59L10.3 9.45l-7.72 7.72c-.78.78-.78 2.05 0 2.83L4 21.41c.39.39.9.59 1.41.59.51 0 1.02-.2 1.41-.59l7.78-7.78 2.81-2.81c.8-.78.8-2.07 0-2.86zM5.41 20L4 18.59l7.72-7.72 1.47 1.35L5.41 20z\"/>\n",
              "  </svg>\n",
              "      </button>\n",
              "      \n",
              "  <style>\n",
              "    .colab-df-container {\n",
              "      display:flex;\n",
              "      flex-wrap:wrap;\n",
              "      gap: 12px;\n",
              "    }\n",
              "\n",
              "    .colab-df-convert {\n",
              "      background-color: #E8F0FE;\n",
              "      border: none;\n",
              "      border-radius: 50%;\n",
              "      cursor: pointer;\n",
              "      display: none;\n",
              "      fill: #1967D2;\n",
              "      height: 32px;\n",
              "      padding: 0 0 0 0;\n",
              "      width: 32px;\n",
              "    }\n",
              "\n",
              "    .colab-df-convert:hover {\n",
              "      background-color: #E2EBFA;\n",
              "      box-shadow: 0px 1px 2px rgba(60, 64, 67, 0.3), 0px 1px 3px 1px rgba(60, 64, 67, 0.15);\n",
              "      fill: #174EA6;\n",
              "    }\n",
              "\n",
              "    [theme=dark] .colab-df-convert {\n",
              "      background-color: #3B4455;\n",
              "      fill: #D2E3FC;\n",
              "    }\n",
              "\n",
              "    [theme=dark] .colab-df-convert:hover {\n",
              "      background-color: #434B5C;\n",
              "      box-shadow: 0px 1px 3px 1px rgba(0, 0, 0, 0.15);\n",
              "      filter: drop-shadow(0px 1px 2px rgba(0, 0, 0, 0.3));\n",
              "      fill: #FFFFFF;\n",
              "    }\n",
              "  </style>\n",
              "\n",
              "      <script>\n",
              "        const buttonEl =\n",
              "          document.querySelector('#df-79eccbd6-d8f1-46f9-9fdf-8f9a7c83c188 button.colab-df-convert');\n",
              "        buttonEl.style.display =\n",
              "          google.colab.kernel.accessAllowed ? 'block' : 'none';\n",
              "\n",
              "        async function convertToInteractive(key) {\n",
              "          const element = document.querySelector('#df-79eccbd6-d8f1-46f9-9fdf-8f9a7c83c188');\n",
              "          const dataTable =\n",
              "            await google.colab.kernel.invokeFunction('convertToInteractive',\n",
              "                                                     [key], {});\n",
              "          if (!dataTable) return;\n",
              "\n",
              "          const docLinkHtml = 'Like what you see? Visit the ' +\n",
              "            '<a target=\"_blank\" href=https://colab.research.google.com/notebooks/data_table.ipynb>data table notebook</a>'\n",
              "            + ' to learn more about interactive tables.';\n",
              "          element.innerHTML = '';\n",
              "          dataTable['output_type'] = 'display_data';\n",
              "          await google.colab.output.renderOutput(dataTable, element);\n",
              "          const docLink = document.createElement('div');\n",
              "          docLink.innerHTML = docLinkHtml;\n",
              "          element.appendChild(docLink);\n",
              "        }\n",
              "      </script>\n",
              "    </div>\n",
              "  </div>\n",
              "  "
            ]
          },
          "metadata": {},
          "execution_count": 41
        }
      ]
    },
    {
      "cell_type": "markdown",
      "source": [
        "Data Preprocessing\n",
        "\n",
        "We will perform the following steps:\n",
        "\n",
        "Tokenization: Split the text into sentences and the sentences into words. Lowercase the words and remove punctuation.\n",
        "\n",
        "Words that have fewer than 3 characters are removed.\n",
        "\n",
        "All stopwords are removed.\n",
        "\n",
        "Words are lemmatized - words in third person are changed to first person and verbs in past and future tenses are changed into present.\n",
        "\n",
        "Words are stemmed - words are reduced to their root form."
      ],
      "metadata": {
        "id": "WZFZOZRwBpd1"
      }
    },
    {
      "cell_type": "code",
      "source": [
        "'''\n",
        "Loading Gensim and nltk libraries\n",
        "'''\n",
        "\n",
        "import gensim\n",
        "from gensim.utils import simple_preprocess\n",
        "from gensim.parsing.preprocessing import STOPWORDS\n",
        "from nltk.stem import WordNetLemmatizer, SnowballStemmer\n",
        "from nltk.stem.porter import *\n",
        "import numpy as np\n",
        "np.random.seed(400)"
      ],
      "metadata": {
        "id": "OwvTEHyD-1vw"
      },
      "execution_count": null,
      "outputs": []
    },
    {
      "cell_type": "code",
      "source": [
        "import nltk\n",
        "nltk.download('wordnet')"
      ],
      "metadata": {
        "colab": {
          "base_uri": "https://localhost:8080/"
        },
        "id": "CdyDwVdrB36a",
        "outputId": "0ce8a609-4063-4c8b-8c5b-8f894df5ded1"
      },
      "execution_count": null,
      "outputs": [
        {
          "output_type": "stream",
          "name": "stderr",
          "text": [
            "[nltk_data] Downloading package wordnet to /root/nltk_data...\n",
            "[nltk_data]   Package wordnet is already up-to-date!\n"
          ]
        },
        {
          "output_type": "execute_result",
          "data": {
            "text/plain": [
              "True"
            ]
          },
          "metadata": {},
          "execution_count": 43
        }
      ]
    },
    {
      "cell_type": "code",
      "source": [
        "'''\n",
        "Write a function to perform the pre processing steps on the entire dataset\n",
        "'''\n",
        "stemmer = SnowballStemmer(\"english\")\n",
        "def lemmatize_stemming(text):\n",
        "    return stemmer.stem(WordNetLemmatizer().lemmatize(text, pos='v'))\n",
        "\n",
        "# Tokenize and Lemmatize\n",
        "def preprocess(text):\n",
        "    result=[]\n",
        "    for token in gensim.utils.simple_preprocess(text) :\n",
        "        if token not in gensim.parsing.preprocessing.STOPWORDS and len(token) > 3:\n",
        "            result.append(lemmatize_stemming(token))\n",
        "    return result"
      ],
      "metadata": {
        "id": "3_BEWTX_B39L"
      },
      "execution_count": null,
      "outputs": []
    },
    {
      "cell_type": "code",
      "source": [
        "import nltk\n",
        "nltk.download('omw-1.4')"
      ],
      "metadata": {
        "colab": {
          "base_uri": "https://localhost:8080/"
        },
        "id": "2xLMdfkYCLRU",
        "outputId": "690d015a-f644-4c0b-c411-ae020ddaadf7"
      },
      "execution_count": null,
      "outputs": [
        {
          "output_type": "stream",
          "name": "stderr",
          "text": [
            "[nltk_data] Downloading package omw-1.4 to /root/nltk_data...\n",
            "[nltk_data]   Package omw-1.4 is already up-to-date!\n"
          ]
        },
        {
          "output_type": "execute_result",
          "data": {
            "text/plain": [
              "True"
            ]
          },
          "metadata": {},
          "execution_count": 45
        }
      ]
    },
    {
      "cell_type": "code",
      "source": [
        "'''\n",
        "Preview a document after preprocessing\n",
        "'''\n",
        "document_num = 4310\n",
        "doc_sample = documents[documents['index'] == document_num].values[0][0]\n",
        "\n",
        "print(\"Original document: \")\n",
        "words = []\n",
        "for word in doc_sample.split(' '):\n",
        "    words.append(word)\n",
        "print(words)\n",
        "print(\"\\n\\nTokenized and lemmatized document: \")\n",
        "print(preprocess(doc_sample))"
      ],
      "metadata": {
        "colab": {
          "base_uri": "https://localhost:8080/"
        },
        "id": "C6pUW5Z8B3_8",
        "outputId": "860bbfd3-fe90-496c-8e17-8daf9593dd88"
      },
      "execution_count": null,
      "outputs": [
        {
          "output_type": "stream",
          "name": "stdout",
          "text": [
            "Original document: \n",
            "['rain', 'helps', 'dampen', 'bushfires']\n",
            "\n",
            "\n",
            "Tokenized and lemmatized document: \n",
            "['rain', 'help', 'dampen', 'bushfir']\n"
          ]
        }
      ]
    },
    {
      "cell_type": "markdown",
      "source": [
        "Let's now preprocess all the news headlines we have. To do that, let's use the map function from pandas to apply preprocess() to the headline_text column"
      ],
      "metadata": {
        "id": "cDgwhVN0CdeJ"
      }
    },
    {
      "cell_type": "code",
      "source": [
        "# preprocess all the headlines, saving the list of results as 'processed_docs'\n",
        "processed_docs = documents['headline_text'].map(preprocess)"
      ],
      "metadata": {
        "id": "KBuOh_jYB4FW"
      },
      "execution_count": null,
      "outputs": []
    },
    {
      "cell_type": "code",
      "source": [
        "'''\n",
        "Preview 'processed_docs'\n",
        "'''\n",
        "processed_docs.head()"
      ],
      "metadata": {
        "colab": {
          "base_uri": "https://localhost:8080/"
        },
        "id": "d0GNuuLEB4IC",
        "outputId": "e479e27e-bcf3-42c9-9c1a-efd546ea41ff"
      },
      "execution_count": null,
      "outputs": [
        {
          "output_type": "execute_result",
          "data": {
            "text/plain": [
              "0     [decid, communiti, broadcast, licenc]\n",
              "1                        [wit, awar, defam]\n",
              "2    [call, infrastructur, protect, summit]\n",
              "3               [staff, aust, strike, rise]\n",
              "4      [strike, affect, australian, travel]\n",
              "Name: headline_text, dtype: object"
            ]
          },
          "metadata": {},
          "execution_count": 48
        }
      ]
    },
    {
      "cell_type": "markdown",
      "source": [
        "Bag of words on the dataset\n",
        "\n",
        "Now let's create a dictionary from 'processed_docs' containing the number of times a word appears in the training set. To do that, let's pass processed_docs to gensim.corpora.Dictionary() and call it 'dictionary'"
      ],
      "metadata": {
        "id": "C4spEbkwCz8_"
      }
    },
    {
      "cell_type": "code",
      "source": [
        "'''\n",
        "Create a dictionary from 'processed_docs' containing the number of times a word appears \n",
        "in the training set using gensim.corpora.Dictionary and call it 'dictionary'\n",
        "'''\n",
        "dictionary = gensim.corpora.Dictionary(processed_docs)"
      ],
      "metadata": {
        "id": "bS60cQ-_B4K3"
      },
      "execution_count": null,
      "outputs": []
    },
    {
      "cell_type": "code",
      "source": [
        "'''\n",
        "Checking dictionary created\n",
        "'''\n",
        "count = 0\n",
        "for k, v in dictionary.iteritems():\n",
        "    print(k, v)\n",
        "    count += 1\n",
        "    if count > 10:\n",
        "        break"
      ],
      "metadata": {
        "colab": {
          "base_uri": "https://localhost:8080/"
        },
        "id": "YFDoHbg9B4NQ",
        "outputId": "fbfccf2c-5e71-4aa7-99ed-d5ca11f92d80"
      },
      "execution_count": null,
      "outputs": [
        {
          "output_type": "stream",
          "name": "stdout",
          "text": [
            "0 broadcast\n",
            "1 communiti\n",
            "2 decid\n",
            "3 licenc\n",
            "4 awar\n",
            "5 defam\n",
            "6 wit\n",
            "7 call\n",
            "8 infrastructur\n",
            "9 protect\n",
            "10 summit\n"
          ]
        }
      ]
    },
    {
      "cell_type": "markdown",
      "source": [
        "Gensim filter_extremes​filter_extremes(no_below=5, no_above=0.5, keep_n=100000)​Filter out tokens that appear in​\n",
        "\n",
        "less than no_below documents (absolute number) or\n",
        "\n",
        "more than no_above documents (fraction of total corpus size, not absolute number).\n",
        "\n",
        "after (1) and (2), keep only the first keep_n most frequent tokens (or keep all if None)."
      ],
      "metadata": {
        "id": "CrhygdDpDK6G"
      }
    },
    {
      "cell_type": "code",
      "source": [
        "'''\n",
        "Remove very rare and very common words:\n",
        "\n",
        "- words appearing less than 15 times\n",
        "- words appearing in more than 10% of all documents\n",
        "'''\n",
        "dictionary.filter_extremes(no_below=15, no_above=0.1, keep_n=100000)"
      ],
      "metadata": {
        "id": "2NfAiOpV-1zY"
      },
      "execution_count": null,
      "outputs": []
    },
    {
      "cell_type": "markdown",
      "source": [
        "Gensim doc2bow\n",
        "\n",
        "doc2bow(document)\n",
        "\n",
        "Convert document (a list of words) into the bag-of-words format = list of (token_id, token_count) 2-tuples. Each word is assumed to be a tokenized and normalized string (either unicode or utf8-encoded). No further preprocessing is done on the words in document; apply tokenization, stemming etc. before calling this method."
      ],
      "metadata": {
        "id": "8rOlpD9dDYO_"
      }
    },
    {
      "cell_type": "code",
      "source": [
        "bow_corpus = [dictionary.doc2bow(doc) for doc in processed_docs]"
      ],
      "metadata": {
        "id": "-dYSf1fVDT8N"
      },
      "execution_count": null,
      "outputs": []
    },
    {
      "cell_type": "code",
      "source": [
        "'''\n",
        "Checking Bag of Words corpus for our sample document --> (token_id, token_count)\n",
        "'''\n",
        "bow_corpus[document_num]"
      ],
      "metadata": {
        "colab": {
          "base_uri": "https://localhost:8080/"
        },
        "id": "fwe_cbwrDT-3",
        "outputId": "baf8840a-c245-4622-a830-d19c7189391e"
      },
      "execution_count": null,
      "outputs": [
        {
          "output_type": "execute_result",
          "data": {
            "text/plain": [
              "[(71, 1), (107, 1), (462, 1), (3530, 1)]"
            ]
          },
          "metadata": {},
          "execution_count": 53
        }
      ]
    },
    {
      "cell_type": "code",
      "source": [
        "'''\n",
        "Preview BOW for our sample preprocessed document\n",
        "'''\n",
        "# Here document_num is document number 4310 which we have checked in Step 2\n",
        "bow_doc_4310 = bow_corpus[document_num]\n",
        "\n",
        "for i in range(len(bow_doc_4310)):\n",
        "    print(\"Word {} (\\\"{}\\\") appears {} time.\".format(bow_doc_4310[i][0], \n",
        "                                                     dictionary[bow_doc_4310[i][0]], \n",
        "                                                     bow_doc_4310[i][1]))"
      ],
      "metadata": {
        "colab": {
          "base_uri": "https://localhost:8080/"
        },
        "id": "iFfKmt1iDUBg",
        "outputId": "d1bfd05a-e914-415b-b497-5d0446c33c02"
      },
      "execution_count": null,
      "outputs": [
        {
          "output_type": "stream",
          "name": "stdout",
          "text": [
            "Word 71 (\"bushfir\") appears 1 time.\n",
            "Word 107 (\"help\") appears 1 time.\n",
            "Word 462 (\"rain\") appears 1 time.\n",
            "Word 3530 (\"dampen\") appears 1 time.\n"
          ]
        }
      ]
    },
    {
      "cell_type": "markdown",
      "source": [
        "TF-IDF on our document set\n",
        "\n",
        "While performing TF-IDF on the corpus is not necessary for LDA implemention using the gensim model, it is recemmended. TF-IDF expects a bag-of-words (integer values) training corpus during initialization. During transformation, it will take a vector and return another vector of the same dimensionality."
      ],
      "metadata": {
        "id": "Y-fqfyW1Dwmm"
      }
    },
    {
      "cell_type": "code",
      "source": [
        " '''\n",
        "Create tf-idf model object using models.TfidfModel on 'bow_corpus' and save it to 'tfidf'\n",
        "'''\n",
        "from gensim import corpora, models\n",
        "\n",
        "\n",
        "tfidf = models.TfidfModel(bow_corpus)"
      ],
      "metadata": {
        "id": "65TmEUKsDUEW"
      },
      "execution_count": null,
      "outputs": []
    },
    {
      "cell_type": "code",
      "source": [
        "'''\n",
        "Apply transformation to the entire corpus and call it 'corpus_tfidf'\n",
        "'''\n",
        "corpus_tfidf = tfidf[bow_corpus]"
      ],
      "metadata": {
        "id": "xx1Gbhs7DUGq"
      },
      "execution_count": null,
      "outputs": []
    },
    {
      "cell_type": "code",
      "source": [
        "'''\n",
        "Preview TF-IDF scores for our first document --> --> (token_id, tfidf score)\n",
        "'''\n",
        "from pprint import pprint\n",
        "for doc in corpus_tfidf:\n",
        "    pprint(doc)\n",
        "    break"
      ],
      "metadata": {
        "colab": {
          "base_uri": "https://localhost:8080/"
        },
        "id": "CUUavp8RDUKI",
        "outputId": "b1f9ea39-0f2e-4731-b691-37be2ff412a7"
      },
      "execution_count": null,
      "outputs": [
        {
          "output_type": "stream",
          "name": "stdout",
          "text": [
            "[(0, 0.5959813347777092),\n",
            " (1, 0.39204529549491984),\n",
            " (2, 0.48531419274988147),\n",
            " (3, 0.5055461098578569)]\n"
          ]
        }
      ]
    },
    {
      "cell_type": "code",
      "source": [
        "# LDA mono-core -- fallback code in case LdaMulticore throws an error on your machine\n",
        "# lda_model = gensim.models.LdaModel(bow_corpus, \n",
        "#                                    num_topics = 10, \n",
        "#                                    id2word = dictionary,                                    \n",
        "#                                    passes = 50)\n",
        "\n",
        "# LDA multicore \n",
        "'''\n",
        "Train your lda model using gensim.models.LdaMulticore and save it to 'lda_model'\n",
        "'''\n",
        "lda_model = gensim.models.LdaMulticore(bow_corpus, \n",
        "                                       num_topics=10, \n",
        "                                       id2word = dictionary, \n",
        "                                       passes = 2, \n",
        "                                       workers=2)"
      ],
      "metadata": {
        "id": "Mu5gLyk0EKN_"
      },
      "execution_count": null,
      "outputs": []
    },
    {
      "cell_type": "code",
      "source": [
        "'''\n",
        "For each topic, we will explore the words occuring in that topic and its relative weight\n",
        "'''\n",
        "for idx, topic in lda_model.print_topics(-1):\n",
        "    print(\"Topic: {} \\nWords: {}\".format(topic, idx ))\n",
        "    print(\"\\n\")"
      ],
      "metadata": {
        "colab": {
          "base_uri": "https://localhost:8080/"
        },
        "id": "fJYKX8fkEKQp",
        "outputId": "9bfbca1b-cbdc-4caf-84ab-7b1ab3a806d5"
      },
      "execution_count": null,
      "outputs": [
        {
          "output_type": "stream",
          "name": "stdout",
          "text": [
            "Topic: 0.022*\"closer\" + 0.021*\"test\" + 0.020*\"lead\" + 0.017*\"talk\" + 0.014*\"south\" + 0.013*\"law\" + 0.012*\"take\" + 0.012*\"timor\" + 0.011*\"open\" + 0.010*\"clash\" \n",
            "Words: 0\n",
            "\n",
            "\n",
            "Topic: 0.091*\"polic\" + 0.028*\"seek\" + 0.025*\"investig\" + 0.022*\"miss\" + 0.016*\"search\" + 0.015*\"probe\" + 0.013*\"region\" + 0.011*\"offic\" + 0.011*\"bodi\" + 0.011*\"shoot\" \n",
            "Words: 1\n",
            "\n",
            "\n",
            "Topic: 0.016*\"record\" + 0.014*\"australia\" + 0.014*\"break\" + 0.013*\"look\" + 0.013*\"drought\" + 0.012*\"rain\" + 0.012*\"dead\" + 0.012*\"price\" + 0.010*\"sydney\" + 0.009*\"crew\" \n",
            "Words: 2\n",
            "\n",
            "\n",
            "Topic: 0.051*\"water\" + 0.033*\"warn\" + 0.015*\"industri\" + 0.015*\"continu\" + 0.014*\"urg\" + 0.013*\"farmer\" + 0.012*\"busi\" + 0.012*\"begin\" + 0.011*\"worker\" + 0.010*\"threat\" \n",
            "Words: 3\n",
            "\n",
            "\n",
            "Topic: 0.016*\"elect\" + 0.016*\"iraq\" + 0.014*\"council\" + 0.014*\"howard\" + 0.013*\"reject\" + 0.013*\"market\" + 0.013*\"deal\" + 0.013*\"labor\" + 0.012*\"say\" + 0.012*\"plan\" \n",
            "Words: 4\n",
            "\n",
            "\n",
            "Topic: 0.040*\"charg\" + 0.035*\"court\" + 0.034*\"face\" + 0.022*\"kill\" + 0.020*\"murder\" + 0.020*\"accus\" + 0.020*\"forc\" + 0.019*\"attack\" + 0.016*\"case\" + 0.013*\"trial\" \n",
            "Words: 5\n",
            "\n",
            "\n",
            "Topic: 0.018*\"return\" + 0.017*\"hold\" + 0.014*\"question\" + 0.014*\"resid\" + 0.014*\"work\" + 0.012*\"firefight\" + 0.011*\"blaze\" + 0.011*\"rais\" + 0.010*\"unit\" + 0.010*\"titl\" \n",
            "Words: 6\n",
            "\n",
            "\n",
            "Topic: 0.038*\"crash\" + 0.025*\"jail\" + 0.021*\"road\" + 0.018*\"die\" + 0.016*\"death\" + 0.016*\"coast\" + 0.013*\"get\" + 0.013*\"driver\" + 0.013*\"year\" + 0.013*\"prompt\" \n",
            "Words: 7\n",
            "\n",
            "\n",
            "Topic: 0.060*\"govt\" + 0.027*\"council\" + 0.025*\"fund\" + 0.021*\"plan\" + 0.020*\"urg\" + 0.016*\"boost\" + 0.013*\"servic\" + 0.012*\"rise\" + 0.012*\"health\" + 0.012*\"defend\" \n",
            "Words: 8\n",
            "\n",
            "\n",
            "Topic: 0.036*\"report\" + 0.024*\"opposit\" + 0.023*\"power\" + 0.014*\"win\" + 0.012*\"say\" + 0.012*\"state\" + 0.012*\"final\" + 0.011*\"compani\" + 0.010*\"nuclear\" + 0.009*\"join\" \n",
            "Words: 9\n",
            "\n",
            "\n"
          ]
        }
      ]
    },
    {
      "cell_type": "markdown",
      "source": [
        "Running LDA using TF-IDF"
      ],
      "metadata": {
        "id": "Bzm_knZEEW7v"
      }
    },
    {
      "cell_type": "code",
      "source": [
        "'''\n",
        "Define lda model using corpus_tfidf, again using gensim.models.LdaMulticore()\n",
        "'''\n",
        "\n",
        "lda_model_tfidf = gensim.models.LdaMulticore(corpus_tfidf, \n",
        "                                       num_topics=10, \n",
        "                                       id2word = dictionary, \n",
        "                                       passes = 2, \n",
        "                                       workers=2)"
      ],
      "metadata": {
        "id": "shhoeQa7EKUK"
      },
      "execution_count": null,
      "outputs": []
    },
    {
      "cell_type": "code",
      "source": [
        "'''\n",
        "For each topic, we will explore the words occuring in that topic and its relative weight\n",
        "'''\n",
        "for idx, topic in lda_model_tfidf.print_topics(-1):\n",
        "    print(\"Topic: {} Word: {}\".format(idx, topic))\n",
        "    print(\"\\n\")"
      ],
      "metadata": {
        "colab": {
          "base_uri": "https://localhost:8080/"
        },
        "id": "pOBtqwJbEcYd",
        "outputId": "bef08fb5-f380-4bc8-dd98-1c55a2351734"
      },
      "execution_count": null,
      "outputs": [
        {
          "output_type": "stream",
          "name": "stdout",
          "text": [
            "Topic: 0 Word: 0.019*\"kill\" + 0.016*\"iraq\" + 0.011*\"troop\" + 0.010*\"firefight\" + 0.010*\"blaze\" + 0.008*\"bomb\" + 0.007*\"timor\" + 0.007*\"crew\" + 0.007*\"blast\" + 0.006*\"attack\"\n",
            "\n",
            "\n",
            "Topic: 1 Word: 0.012*\"price\" + 0.011*\"teen\" + 0.010*\"market\" + 0.008*\"climat\" + 0.007*\"restrict\" + 0.007*\"rise\" + 0.007*\"eas\" + 0.007*\"water\" + 0.007*\"level\" + 0.006*\"profit\"\n",
            "\n",
            "\n",
            "Topic: 2 Word: 0.011*\"hick\" + 0.009*\"drink\" + 0.008*\"condit\" + 0.007*\"bird\" + 0.006*\"driver\" + 0.006*\"retir\" + 0.006*\"polic\" + 0.006*\"award\" + 0.006*\"perth\" + 0.005*\"flag\"\n",
            "\n",
            "\n",
            "Topic: 3 Word: 0.013*\"opposit\" + 0.008*\"rais\" + 0.008*\"govt\" + 0.007*\"busi\" + 0.007*\"chang\" + 0.007*\"baghdad\" + 0.006*\"lebanon\" + 0.006*\"hill\" + 0.006*\"law\" + 0.006*\"cancer\"\n",
            "\n",
            "\n",
            "Topic: 4 Word: 0.016*\"govt\" + 0.011*\"water\" + 0.011*\"plan\" + 0.010*\"council\" + 0.010*\"fund\" + 0.010*\"urg\" + 0.007*\"health\" + 0.007*\"group\" + 0.007*\"union\" + 0.007*\"indigen\"\n",
            "\n",
            "\n",
            "Topic: 5 Word: 0.045*\"closer\" + 0.010*\"murray\" + 0.007*\"tiger\" + 0.006*\"recycl\" + 0.006*\"miner\" + 0.006*\"kangaroo\" + 0.005*\"ash\" + 0.005*\"step\" + 0.005*\"hawk\" + 0.005*\"debnam\"\n",
            "\n",
            "\n",
            "Topic: 6 Word: 0.026*\"polic\" + 0.020*\"charg\" + 0.016*\"investig\" + 0.016*\"court\" + 0.015*\"murder\" + 0.015*\"crash\" + 0.013*\"search\" + 0.012*\"woman\" + 0.011*\"jail\" + 0.011*\"miss\"\n",
            "\n",
            "\n",
            "Topic: 7 Word: 0.013*\"rudd\" + 0.009*\"control\" + 0.007*\"council\" + 0.007*\"light\" + 0.007*\"plan\" + 0.006*\"qanta\" + 0.006*\"news\" + 0.006*\"govt\" + 0.006*\"propos\" + 0.006*\"illeg\"\n",
            "\n",
            "\n",
            "Topic: 8 Word: 0.009*\"south\" + 0.009*\"east\" + 0.008*\"world\" + 0.008*\"england\" + 0.007*\"australia\" + 0.007*\"solomon\" + 0.007*\"open\" + 0.007*\"victori\" + 0.006*\"uranium\" + 0.006*\"highway\"\n",
            "\n",
            "\n",
            "Topic: 9 Word: 0.012*\"nuclear\" + 0.011*\"rain\" + 0.009*\"drought\" + 0.009*\"north\" + 0.008*\"cyclon\" + 0.008*\"farmer\" + 0.008*\"storm\" + 0.008*\"wind\" + 0.007*\"damag\" + 0.007*\"farm\"\n",
            "\n",
            "\n"
          ]
        }
      ]
    },
    {
      "cell_type": "markdown",
      "source": [
        "Performance evaluation by classifying sample document using LDA Bag of Words model"
      ],
      "metadata": {
        "id": "aVrUxTP0EsYH"
      }
    },
    {
      "cell_type": "code",
      "source": [
        "'''\n",
        "Text of sample document 4310\n",
        "'''\n",
        "processed_docs[4310]"
      ],
      "metadata": {
        "colab": {
          "base_uri": "https://localhost:8080/"
        },
        "id": "WV-lDxYlEtBE",
        "outputId": "a98dcda7-0ccf-42e9-e204-8e0d95b50248"
      },
      "execution_count": null,
      "outputs": [
        {
          "output_type": "execute_result",
          "data": {
            "text/plain": [
              "['rain', 'help', 'dampen', 'bushfir']"
            ]
          },
          "metadata": {},
          "execution_count": 62
        }
      ]
    },
    {
      "cell_type": "code",
      "source": [
        "'''\n",
        "Check which topic our test document belongs to using the LDA Bag of Words model.\n",
        "'''\n",
        "document_num = 4310\n",
        "\n",
        "# Our test document is document number 4310\n",
        "for index, score in sorted(lda_model[bow_corpus[document_num]], key=lambda tup: -1*tup[1]):\n",
        "    print(\"\\nScore: {}\\t \\nTopic: {}\".format(score, lda_model.print_topic(index, 10)))"
      ],
      "metadata": {
        "colab": {
          "base_uri": "https://localhost:8080/"
        },
        "id": "LLaOV51HEtDa",
        "outputId": "7bb467ad-54bd-49f5-a5f5-782e52365316"
      },
      "execution_count": null,
      "outputs": [
        {
          "output_type": "stream",
          "name": "stdout",
          "text": [
            "\n",
            "Score: 0.48499351739883423\t \n",
            "Topic: 0.016*\"record\" + 0.014*\"australia\" + 0.014*\"break\" + 0.013*\"look\" + 0.013*\"drought\" + 0.012*\"rain\" + 0.012*\"dead\" + 0.012*\"price\" + 0.010*\"sydney\" + 0.009*\"crew\"\n",
            "\n",
            "Score: 0.35498127341270447\t \n",
            "Topic: 0.091*\"polic\" + 0.028*\"seek\" + 0.025*\"investig\" + 0.022*\"miss\" + 0.016*\"search\" + 0.015*\"probe\" + 0.013*\"region\" + 0.011*\"offic\" + 0.011*\"bodi\" + 0.011*\"shoot\"\n",
            "\n",
            "Score: 0.02000931277871132\t \n",
            "Topic: 0.051*\"water\" + 0.033*\"warn\" + 0.015*\"industri\" + 0.015*\"continu\" + 0.014*\"urg\" + 0.013*\"farmer\" + 0.012*\"busi\" + 0.012*\"begin\" + 0.011*\"worker\" + 0.010*\"threat\"\n",
            "\n",
            "Score: 0.020006787031888962\t \n",
            "Topic: 0.018*\"return\" + 0.017*\"hold\" + 0.014*\"question\" + 0.014*\"resid\" + 0.014*\"work\" + 0.012*\"firefight\" + 0.011*\"blaze\" + 0.011*\"rais\" + 0.010*\"unit\" + 0.010*\"titl\"\n",
            "\n",
            "Score: 0.020003389567136765\t \n",
            "Topic: 0.060*\"govt\" + 0.027*\"council\" + 0.025*\"fund\" + 0.021*\"plan\" + 0.020*\"urg\" + 0.016*\"boost\" + 0.013*\"servic\" + 0.012*\"rise\" + 0.012*\"health\" + 0.012*\"defend\"\n",
            "\n",
            "Score: 0.020002905279397964\t \n",
            "Topic: 0.022*\"closer\" + 0.021*\"test\" + 0.020*\"lead\" + 0.017*\"talk\" + 0.014*\"south\" + 0.013*\"law\" + 0.012*\"take\" + 0.012*\"timor\" + 0.011*\"open\" + 0.010*\"clash\"\n",
            "\n",
            "Score: 0.020001528784632683\t \n",
            "Topic: 0.038*\"crash\" + 0.025*\"jail\" + 0.021*\"road\" + 0.018*\"die\" + 0.016*\"death\" + 0.016*\"coast\" + 0.013*\"get\" + 0.013*\"driver\" + 0.013*\"year\" + 0.013*\"prompt\"\n",
            "\n",
            "Score: 0.020001225173473358\t \n",
            "Topic: 0.016*\"elect\" + 0.016*\"iraq\" + 0.014*\"council\" + 0.014*\"howard\" + 0.013*\"reject\" + 0.013*\"market\" + 0.013*\"deal\" + 0.013*\"labor\" + 0.012*\"say\" + 0.012*\"plan\"\n",
            "\n",
            "Score: 0.020000074058771133\t \n",
            "Topic: 0.036*\"report\" + 0.024*\"opposit\" + 0.023*\"power\" + 0.014*\"win\" + 0.012*\"say\" + 0.012*\"state\" + 0.012*\"final\" + 0.011*\"compani\" + 0.010*\"nuclear\" + 0.009*\"join\"\n",
            "\n",
            "Score: 0.019999999552965164\t \n",
            "Topic: 0.040*\"charg\" + 0.035*\"court\" + 0.034*\"face\" + 0.022*\"kill\" + 0.020*\"murder\" + 0.020*\"accus\" + 0.020*\"forc\" + 0.019*\"attack\" + 0.016*\"case\" + 0.013*\"trial\"\n"
          ]
        }
      ]
    },
    {
      "cell_type": "markdown",
      "source": [
        "It has the highest probability (0.48) to be part of the topic that we assigned as Topic X, which is the accurate classification"
      ],
      "metadata": {
        "id": "aYNKD6iRE6AC"
      }
    },
    {
      "cell_type": "markdown",
      "source": [
        "Performance evaluation by classifying sample document using LDA TF-IDF model"
      ],
      "metadata": {
        "id": "UGkONNf3E-zn"
      }
    },
    {
      "cell_type": "code",
      "source": [
        "'''\n",
        "Check which topic our test document belongs to using the LDA TF-IDF model.\n",
        "'''\n",
        "# Our test document is document number 4310\n",
        "for index, score in sorted(lda_model_tfidf[bow_corpus[document_num]], key=lambda tup: -1*tup[1]):\n",
        "    print(\"\\nScore: {}\\t \\nTopic: {}\".format(score, lda_model_tfidf.print_topic(index, 10)))"
      ],
      "metadata": {
        "colab": {
          "base_uri": "https://localhost:8080/"
        },
        "id": "Ddkt_Nc2E_bp",
        "outputId": "5b0fe156-aa80-4fdf-b83b-a6cf2e9f9b0f"
      },
      "execution_count": null,
      "outputs": [
        {
          "output_type": "stream",
          "name": "stdout",
          "text": [
            "\n",
            "Score: 0.5793165564537048\t \n",
            "Topic: 0.012*\"nuclear\" + 0.011*\"rain\" + 0.009*\"drought\" + 0.009*\"north\" + 0.008*\"cyclon\" + 0.008*\"farmer\" + 0.008*\"storm\" + 0.008*\"wind\" + 0.007*\"damag\" + 0.007*\"farm\"\n",
            "\n",
            "Score: 0.26067036390304565\t \n",
            "Topic: 0.013*\"rudd\" + 0.009*\"control\" + 0.007*\"council\" + 0.007*\"light\" + 0.007*\"plan\" + 0.006*\"qanta\" + 0.006*\"news\" + 0.006*\"govt\" + 0.006*\"propos\" + 0.006*\"illeg\"\n",
            "\n",
            "Score: 0.02000400796532631\t \n",
            "Topic: 0.019*\"kill\" + 0.016*\"iraq\" + 0.011*\"troop\" + 0.010*\"firefight\" + 0.010*\"blaze\" + 0.008*\"bomb\" + 0.007*\"timor\" + 0.007*\"crew\" + 0.007*\"blast\" + 0.006*\"attack\"\n",
            "\n",
            "Score: 0.020002862438559532\t \n",
            "Topic: 0.016*\"govt\" + 0.011*\"water\" + 0.011*\"plan\" + 0.010*\"council\" + 0.010*\"fund\" + 0.010*\"urg\" + 0.007*\"health\" + 0.007*\"group\" + 0.007*\"union\" + 0.007*\"indigen\"\n",
            "\n",
            "Score: 0.020001530647277832\t \n",
            "Topic: 0.026*\"polic\" + 0.020*\"charg\" + 0.016*\"investig\" + 0.016*\"court\" + 0.015*\"murder\" + 0.015*\"crash\" + 0.013*\"search\" + 0.012*\"woman\" + 0.011*\"jail\" + 0.011*\"miss\"\n",
            "\n",
            "Score: 0.020001357421278954\t \n",
            "Topic: 0.013*\"opposit\" + 0.008*\"rais\" + 0.008*\"govt\" + 0.007*\"busi\" + 0.007*\"chang\" + 0.007*\"baghdad\" + 0.006*\"lebanon\" + 0.006*\"hill\" + 0.006*\"law\" + 0.006*\"cancer\"\n",
            "\n",
            "Score: 0.02000131458044052\t \n",
            "Topic: 0.012*\"price\" + 0.011*\"teen\" + 0.010*\"market\" + 0.008*\"climat\" + 0.007*\"restrict\" + 0.007*\"rise\" + 0.007*\"eas\" + 0.007*\"water\" + 0.007*\"level\" + 0.006*\"profit\"\n",
            "\n",
            "Score: 0.020001107826828957\t \n",
            "Topic: 0.011*\"hick\" + 0.009*\"drink\" + 0.008*\"condit\" + 0.007*\"bird\" + 0.006*\"driver\" + 0.006*\"retir\" + 0.006*\"polic\" + 0.006*\"award\" + 0.006*\"perth\" + 0.005*\"flag\"\n",
            "\n",
            "Score: 0.020000677555799484\t \n",
            "Topic: 0.045*\"closer\" + 0.010*\"murray\" + 0.007*\"tiger\" + 0.006*\"recycl\" + 0.006*\"miner\" + 0.006*\"kangaroo\" + 0.005*\"ash\" + 0.005*\"step\" + 0.005*\"hawk\" + 0.005*\"debnam\"\n",
            "\n",
            "Score: 0.020000269636511803\t \n",
            "Topic: 0.009*\"south\" + 0.009*\"east\" + 0.008*\"world\" + 0.008*\"england\" + 0.007*\"australia\" + 0.007*\"solomon\" + 0.007*\"open\" + 0.007*\"victori\" + 0.006*\"uranium\" + 0.006*\"highway\"\n"
          ]
        }
      ]
    },
    {
      "cell_type": "markdown",
      "source": [
        "It has the highest probability (57%) to be part of the topic that we assigned as topic X."
      ],
      "metadata": {
        "id": "C5VouWK4FGjI"
      }
    },
    {
      "cell_type": "markdown",
      "source": [
        "Testing model on unseen document"
      ],
      "metadata": {
        "id": "A_d-SK5zFLNa"
      }
    },
    {
      "cell_type": "code",
      "source": [
        "unseen_document = \"My favorite sports activities are running and swimming.\"\n",
        "\n",
        "# Data preprocessing step for the unseen document\n",
        "bow_vector = dictionary.doc2bow(preprocess(unseen_document))\n",
        "\n",
        "for index, score in sorted(lda_model[bow_vector], key=lambda tup: -1*tup[1]):\n",
        "    print(\"Score: {}\\t Topic: {}\".format(score, lda_model.print_topic(index, 5)))"
      ],
      "metadata": {
        "colab": {
          "base_uri": "https://localhost:8080/"
        },
        "id": "fyph6ipvFHOs",
        "outputId": "f2ece207-9cfb-4a65-ba7d-782402e2a790"
      },
      "execution_count": null,
      "outputs": [
        {
          "output_type": "stream",
          "name": "stdout",
          "text": [
            "Score: 0.4200000762939453\t Topic: 0.022*\"closer\" + 0.021*\"test\" + 0.020*\"lead\" + 0.017*\"talk\" + 0.014*\"south\"\n",
            "Score: 0.2199999839067459\t Topic: 0.018*\"return\" + 0.017*\"hold\" + 0.014*\"question\" + 0.014*\"resid\" + 0.014*\"work\"\n",
            "Score: 0.2199922502040863\t Topic: 0.040*\"charg\" + 0.035*\"court\" + 0.034*\"face\" + 0.022*\"kill\" + 0.020*\"murder\"\n",
            "Score: 0.020004000514745712\t Topic: 0.038*\"crash\" + 0.025*\"jail\" + 0.021*\"road\" + 0.018*\"die\" + 0.016*\"death\"\n",
            "Score: 0.02000368759036064\t Topic: 0.036*\"report\" + 0.024*\"opposit\" + 0.023*\"power\" + 0.014*\"win\" + 0.012*\"say\"\n",
            "Score: 0.019999999552965164\t Topic: 0.091*\"polic\" + 0.028*\"seek\" + 0.025*\"investig\" + 0.022*\"miss\" + 0.016*\"search\"\n",
            "Score: 0.019999999552965164\t Topic: 0.016*\"record\" + 0.014*\"australia\" + 0.014*\"break\" + 0.013*\"look\" + 0.013*\"drought\"\n",
            "Score: 0.019999999552965164\t Topic: 0.051*\"water\" + 0.033*\"warn\" + 0.015*\"industri\" + 0.015*\"continu\" + 0.014*\"urg\"\n",
            "Score: 0.019999999552965164\t Topic: 0.016*\"elect\" + 0.016*\"iraq\" + 0.014*\"council\" + 0.014*\"howard\" + 0.013*\"reject\"\n",
            "Score: 0.019999999552965164\t Topic: 0.060*\"govt\" + 0.027*\"council\" + 0.025*\"fund\" + 0.021*\"plan\" + 0.020*\"urg\"\n"
          ]
        }
      ]
    },
    {
      "cell_type": "markdown",
      "source": [
        "The model correctly classifies the unseen document with '42'% probability to the X category."
      ],
      "metadata": {
        "id": "WjMf2x8iPfUN"
      }
    },
    {
      "cell_type": "code",
      "source": [
        ""
      ],
      "metadata": {
        "id": "-toKqHmrE_hp"
      },
      "execution_count": null,
      "outputs": []
    },
    {
      "cell_type": "code",
      "source": [
        ""
      ],
      "metadata": {
        "id": "G8CfW3g0E_wz"
      },
      "execution_count": null,
      "outputs": []
    }
  ]
}